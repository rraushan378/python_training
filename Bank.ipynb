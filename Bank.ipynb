{
 "cells": [
  {
   "cell_type": "code",
   "execution_count": 19,
   "metadata": {},
   "outputs": [
    {
     "name": "stdout",
     "output_type": "stream",
     "text": [
      "<class 'sqlite3.Connection'>\n",
      "Table Deleted successfully\n",
      "<sqlite3.Cursor object at 0x0000024CAA809FC0>\n"
     ]
    }
   ],
   "source": [
    "# Create table\n",
    "import sqlite3\n",
    "conn = sqlite3.connect('bank.db')\n",
    "print(type(conn))\n",
    "\n",
    "# Create table\n",
    "cr=conn.execute('''Delete from bank where CustId>=1;''')\n",
    "print (\"Table Deleted successfully\")\n",
    "print(cr)\n",
    "conn.close()"
   ]
  },
  {
   "cell_type": "code",
   "execution_count": 15,
   "metadata": {},
   "outputs": [
    {
     "name": "stdout",
     "output_type": "stream",
     "text": [
      "Records created successfully\n"
     ]
    }
   ],
   "source": [
    "# Insert values\n",
    "conn = sqlite3.connect('bank.db')\n",
    "cr=conn.cursor()\n",
    "# instead of cr we use conn directly\n",
    "conn.execute('''INSERT INTO Bank (CustId,NAME,Balance) \\\n",
    "VALUES (2, 'Paul', 3000)''')\n",
    "'''conn.execute(\"INSERT INTO Bank (CustId,NAME,Balance) \\\n",
    "      VALUES (2, 'Allen', 2500)\")\n",
    "conn.execute(\"INSERT INTO Bank (CustId,NAME,Balance) \\\n",
    "      VALUES (3, 'Teddy', 2300)\")\n",
    "\n",
    "a=4\n",
    "b='Mark'\n",
    "c=2500\n",
    "cr.execute(\"INSERT INTO Bank (CustId,NAME,Balance) \\\n",
    "      VALUES (?, ?, ? )\",(a,b,c))'''\n",
    "conn.commit()\n",
    "print (\"Records created successfully\")\n",
    "conn.close()\n"
   ]
  },
  {
   "cell_type": "code",
   "execution_count": 16,
   "metadata": {},
   "outputs": [
    {
     "name": "stdout",
     "output_type": "stream",
     "text": [
      "Opened database successfully\n",
      "<class 'sqlite3.Cursor'>\n",
      "CustId =  1\n",
      "NAME =  Paul\n",
      "Balance =  25000\n",
      "CustId =  2\n",
      "NAME =  Paul\n",
      "Balance =  3000\n",
      "CustId =  3\n",
      "NAME =  Teddy\n",
      "Balance =  2300\n",
      "CustId =  4\n",
      "NAME =  Mark\n",
      "Balance =  2500\n",
      "Rows fetched successfully\n",
      "(3, 'Teddy', 2300)\n",
      "CustId =  3\n",
      "NAME =  Teddy\n",
      "Balance =  2300\n",
      "1 row fetched successfully\n"
     ]
    }
   ],
   "source": [
    "# Fetch values\n",
    "conn = sqlite3.connect('bank.db')\n",
    "print (\"Opened database successfully\");\n",
    "cursor = conn.execute(\"SELECT CustId, name, Balance from Bank order by 1\")\n",
    "# can also call exeutescript()\n",
    "print(type(cursor))\n",
    "for row in cursor: # can also use fetchmany(), fetchone() etc.\n",
    "   print (\"CustId = \", row[0])\n",
    "   print (\"NAME = \", row[1])\n",
    "   print (\"Balance = \", row[2])\n",
    "print (\"Rows fetched successfully\")\n",
    "x=3\n",
    "cursor = conn.execute(\"SELECT CustId, name, Balance from Bank where CustId=?\",(x,))\n",
    "for row in cursor:\n",
    "   print(row)\n",
    "   print (\"CustId = \", row[0])\n",
    "   print (\"NAME = \", row[1])\n",
    "   print (\"Balance = \", row[2])\n",
    "print (\"1 row fetched successfully\")\n",
    "conn.close()"
   ]
  },
  {
   "cell_type": "code",
   "execution_count": 13,
   "metadata": {},
   "outputs": [
    {
     "name": "stdout",
     "output_type": "stream",
     "text": [
      "Opened database successfully\n",
      "<sqlite3.Cursor object at 0x0000024CAA6870C0>\n",
      "Total number of rows updated : 1\n",
      "CustId =  2\n",
      "NAME =  Allen\n",
      "Balance =  2500 \n",
      "\n",
      "CustId =  3\n",
      "NAME =  Teddy\n",
      "Balance =  2300 \n",
      "\n",
      "CustId =  4\n",
      "NAME =  Mark\n",
      "Balance =  2500 \n",
      "\n",
      "CustId =  1\n",
      "NAME =  Paul\n",
      "Balance =  25000 \n",
      "\n",
      "Results shown successfully\n"
     ]
    }
   ],
   "source": [
    "# Update values\n",
    "conn = sqlite3.connect('bank.db')\n",
    "print (\"Opened database successfully\");\n",
    "temp=conn.execute(\"UPDATE Bank set Balance = 25000.00 where CustId = 1\")\n",
    "print(temp)\n",
    "conn.commit()\n",
    "print (\"Total number of rows updated :\", conn.total_changes)\n",
    "cursor = conn.execute(\"SELECT CustId, name, Balance from Bank\")\n",
    "for row in cursor:\n",
    "   print (\"CustId = \", row[0])\n",
    "   print (\"NAME = \", row[1])\n",
    "   print (\"Balance = \", row[2],\"\\n\")\n",
    "print (\"Results shown successfully\")\n",
    "conn.close()"
   ]
  },
  {
   "cell_type": "code",
   "execution_count": 14,
   "metadata": {},
   "outputs": [
    {
     "name": "stdout",
     "output_type": "stream",
     "text": [
      "Opened database successfully\n",
      "Total number of rows deleted : 1\n",
      "CustId =  3\n",
      "NAME =  Teddy\n",
      "Balance =  2300 \n",
      "\n",
      "CustId =  4\n",
      "NAME =  Mark\n",
      "Balance =  2500 \n",
      "\n",
      "CustId =  1\n",
      "NAME =  Paul\n",
      "Balance =  25000 \n",
      "\n",
      "Deletion done successfully\n"
     ]
    }
   ],
   "source": [
    "# Delete values\n",
    "conn = sqlite3.connect('bank.db')\n",
    "print (\"Opened database successfully\");\n",
    "x=2\n",
    "conn.execute(\"DELETE from Bank where CustId = ?\",(x,))\n",
    "conn.commit()\n",
    "print (\"Total number of rows deleted :\", conn.total_changes)\n",
    "cursor = conn.execute(\"SELECT CustId, name, Balance from Bank\")\n",
    "for row in cursor:\n",
    "   print (\"CustId = \", row[0])\n",
    "   print (\"NAME = \", row[1])\n",
    "   print (\"Balance = \", row[2],\"\\n\")\n",
    "print (\"Deletion done successfully\")\n",
    "conn.close()"
   ]
  },
  {
   "cell_type": "code",
   "execution_count": 34,
   "metadata": {},
   "outputs": [
    {
     "name": "stdout",
     "output_type": "stream",
     "text": [
      "CustId =  3\n",
      "NAME =  Teddy\n",
      "Balance =  2300 \n",
      "\n",
      "Results shown successfully\n"
     ]
    },
    {
     "ename": "ProgrammingError",
     "evalue": "Cannot operate on a closed database.",
     "output_type": "error",
     "traceback": [
      "\u001b[1;31m---------------------------------------------------------------------------\u001b[0m",
      "\u001b[1;31mProgrammingError\u001b[0m                          Traceback (most recent call last)",
      "Cell \u001b[1;32mIn[34], line 3\u001b[0m\n\u001b[0;32m      1\u001b[0m conn \u001b[38;5;241m=\u001b[39m sqlite3\u001b[38;5;241m.\u001b[39mconnect(\u001b[38;5;124m'\u001b[39m\u001b[38;5;124mbank.db\u001b[39m\u001b[38;5;124m'\u001b[39m,timeout\u001b[38;5;241m=\u001b[39m\u001b[38;5;241m20\u001b[39m)\n\u001b[0;32m      2\u001b[0m cursor \u001b[38;5;241m=\u001b[39m conn\u001b[38;5;241m.\u001b[39mexecute(\u001b[38;5;124m\"\u001b[39m\u001b[38;5;124mSELECT CustId, name, Balance from Bank\u001b[39m\u001b[38;5;124m\"\u001b[39m)\n\u001b[1;32m----> 3\u001b[0m \u001b[38;5;28;43;01mfor\u001b[39;49;00m\u001b[43m \u001b[49m\u001b[43mrow\u001b[49m\u001b[43m \u001b[49m\u001b[38;5;129;43;01min\u001b[39;49;00m\u001b[43m \u001b[49m\u001b[43mcursor\u001b[49m\u001b[43m:\u001b[49m\n\u001b[0;32m      4\u001b[0m \u001b[43m    \u001b[49m\u001b[38;5;28;43mprint\u001b[39;49m\u001b[43m \u001b[49m\u001b[43m(\u001b[49m\u001b[38;5;124;43m\"\u001b[39;49m\u001b[38;5;124;43mCustId = \u001b[39;49m\u001b[38;5;124;43m\"\u001b[39;49m\u001b[43m,\u001b[49m\u001b[43m \u001b[49m\u001b[43mrow\u001b[49m\u001b[43m[\u001b[49m\u001b[38;5;241;43m0\u001b[39;49m\u001b[43m]\u001b[49m\u001b[43m)\u001b[49m\n\u001b[0;32m      5\u001b[0m \u001b[43m    \u001b[49m\u001b[38;5;28;43mprint\u001b[39;49m\u001b[43m \u001b[49m\u001b[43m(\u001b[49m\u001b[38;5;124;43m\"\u001b[39;49m\u001b[38;5;124;43mNAME = \u001b[39;49m\u001b[38;5;124;43m\"\u001b[39;49m\u001b[43m,\u001b[49m\u001b[43m \u001b[49m\u001b[43mrow\u001b[49m\u001b[43m[\u001b[49m\u001b[38;5;241;43m1\u001b[39;49m\u001b[43m]\u001b[49m\u001b[43m)\u001b[49m\n",
      "\u001b[1;31mProgrammingError\u001b[0m: Cannot operate on a closed database."
     ]
    }
   ],
   "source": [
    "conn = sqlite3.connect('bank.db',timeout=20)\n",
    "cursor = conn.execute(\"SELECT CustId, name, Balance from Bank\")\n",
    "for row in cursor:\n",
    "    print (\"CustId = \", row[0])\n",
    "    print (\"NAME = \", row[1])\n",
    "    print (\"Balance = \", row[2],\"\\n\")\n",
    "    print (\"Results shown successfully\")\n",
    "    conn.close()"
   ]
  },
  {
   "cell_type": "code",
   "execution_count": 10,
   "metadata": {},
   "outputs": [
    {
     "name": "stdout",
     "output_type": "stream",
     "text": [
      "<class 'sqlite3.Connection'>\n",
      "Table created successfully\n",
      "<sqlite3.Cursor object at 0x000001E6D55ED4C0>\n"
     ]
    }
   ],
   "source": [
    "# Create table\n",
    "import sqlite3\n",
    "conn = sqlite3.connect('bank.db')\n",
    "print(type(conn))\n",
    "\n",
    "# Create table\n",
    "cr=conn.execute('''CREATE TABLE bank\n",
    "         (CustId INT     NOT NULL,\n",
    "         NAME           TEXT    NOT NULL,\n",
    "         Balance            INT     NOT NULL);''')\n",
    "print (\"Table created successfully\");\n",
    "print(cr)\n",
    "conn.close()"
   ]
  },
  {
   "cell_type": "code",
   "execution_count": 9,
   "metadata": {},
   "outputs": [
    {
     "name": "stdout",
     "output_type": "stream",
     "text": [
      "Records Deleted successfully\n"
     ]
    }
   ],
   "source": [
    "import sqlite3\n",
    "conn = sqlite3.connect('bank.db',timeout=20)\n",
    "cr=conn.cursor()\n",
    "# instead of cr we use conn directly\n",
    "conn.execute(\"Drop Table Company\")\n",
    "conn.commit()\n",
    "print (\"Records Deleted successfully\")\n",
    "conn.close()"
   ]
  },
  {
   "cell_type": "code",
   "execution_count": 14,
   "metadata": {},
   "outputs": [
    {
     "name": "stdout",
     "output_type": "stream",
     "text": [
      "Press 1 For Creating Account\n",
      " Press 2. For Withdraw Money \n",
      " Press 3. For Deposite Money\n",
      " press 4 for Delete Account\n",
      " 5 for exit\n"
     ]
    }
   ],
   "source": [
    "class Bank:\n",
    "    def __init__(self,CustId,Name,Balance):\n",
    "        self.CustId=CustId\n",
    "        self.Name=Name\n",
    "        self.Balance=Balance\n",
    "    def CreateAccount(self,CustId,Name,Balance):\n",
    "        conn = sqlite3.connect('bank.db')\n",
    "        cr=conn.cursor()\n",
    "        # instead of cr we use conn directly\n",
    "        conn.execute(\"INSERT INTO Bank (CustId,NAME,Balance) \\\n",
    "            VALUES (?, ?, ? )\",(self.CustId,self.Name,self.Balance))\n",
    "        conn.commit()\n",
    "        print (\"Records created successfully\")\n",
    "        conn.close()\n",
    "    def WithdrawAmount(self,CustId,Amt):\n",
    "        if self.Balance>Amt:\n",
    "            # Update values\n",
    "            conn = sqlite3.connect('bank.db')\n",
    "            print (\"Opened database successfully\")\n",
    "            temp=conn.execute(\"UPDATE Bank set Balance = Balance-? where CustId = ? \",(Amt,CustId))\n",
    "            #print(temp)\n",
    "            conn.commit()\n",
    "            print (\"Total number of rows updated :\", conn.total_changes)\n",
    "            cursor = conn.execute(\"SELECT CustId, name, Balance from Bank\")\n",
    "            for row in cursor:\n",
    "                print (\"CustId = \", row[0])\n",
    "                print (\"NAME = \", row[1])\n",
    "                print (\"Balance = \", row[2],\"\\n\")\n",
    "                print (\"Results shown successfully\")\n",
    "            conn.close()\n",
    "            print(\"withdraw success\")\n",
    "        else:\n",
    "            print(\"Withdraw Balance is more then Available Balance\")\n",
    "    def DepositAmount(self,CustId,Amt):\n",
    "        # Update values\n",
    "        conn = sqlite3.connect('bank.db')\n",
    "        print (\"Opened database successfully\")\n",
    "        temp=conn.execute(\"UPDATE Bank set Balance = Balance + ? where CustId = ? \",(Amt,CustId))\n",
    "        #print(temp)\n",
    "        #  conn.commit()\n",
    "        print (\"Total number of rows updated :\", conn.total_changes)\n",
    "        cursor = conn.execute(\"SELECT CustId, name, Balance from Bank\")\n",
    "        for row in cursor:\n",
    "            print (\"CustId = \", row[0])\n",
    "            print (\"NAME = \", row[1])\n",
    "            print (\"Balance = \", row[2],\"\\n\")\n",
    "            print (\"Results shown successfully\")\n",
    "        conn.close()\n",
    "        print(\"Deposit Success\")\n",
    "    def RemoveAccount(self,CustId):\n",
    "        conn = sqlite3.connect('bank.db')\n",
    "        cr=conn.cursor()\n",
    "        # instead of cr we use conn directly\n",
    "        conn.execute(\"Delete from Bank Where CustId= ? \",(CustId,))\n",
    "        conn.commit()\n",
    "        print (\"Records Deleted successfully\")\n",
    "        conn.close()\n",
    "    def display(self):\n",
    "        conn = sqlite3.connect('bank.db')\n",
    "        cursor = conn.execute(\"SELECT CustId, name, Balance from Bank\")\n",
    "        for row in cursor:\n",
    "            print (\"CustId = \", row[0])\n",
    "            print (\"NAME = \", row[1])\n",
    "            print (\"Balance = \", row[2],\"\\n\")\n",
    "            print (\"Results shown successfully\")\n",
    "        conn.close()\n",
    "b=[]\n",
    "while(True):\n",
    "    print(\"Press 1 For Creating Account\\n Press 2. For Withdraw Money \\n Press 3. For Deposite Money\\n press 4 for Delete Account\\n 5 for exit\")\n",
    "    choice=int(input())\n",
    "    if choice==1:\n",
    "        print(\"Enter Id,Name & Initial Balance To Open Account\")\n",
    "        id=int(input())\n",
    "        name=input()\n",
    "        Balance=int(input())\n",
    "        b1=Bank(id,name,Balance)\n",
    "        b.append(b1)\n",
    "        b1.CreateAccount(id,name,Balance)\n",
    "    elif choice==2:\n",
    "        print(\"Enter CustId & Money to Withdraw\")\n",
    "        id=int(input())\n",
    "        mon=int(input())\n",
    "        b1.WithdrawAmount(id,mon)\n",
    "    elif choice==3:\n",
    "        print(\"Enter CustId & Money to Withdraw\")\n",
    "        id=int(input())\n",
    "        mon=int(input())\n",
    "        b1.DepositAmount(id,mon)\n",
    "    elif choice==4:\n",
    "        print(\"Enter id to remove\")\n",
    "        id=int(input())\n",
    "        b1.RemoveAccount(id)\n",
    "    else:\n",
    "        exit()\n",
    "'''b1=Bank(1,\"Raushan\",2000)\n",
    "b.append(b1)\n",
    "b1.CreateAccount(1,\"Raushan\",2000)\n",
    "b2=Bank(2,\"Raj\",2500)\n",
    "b.append(b2)\n",
    "b2.CreateAccount(2,\"Raj\",2500)\n",
    "b3=Bank(3,\"Gupta\",3000)\n",
    "b.append(b3)\n",
    "b3.CreateAccount(3,\"Gupta\",3000)\n",
    "b4=Bank(4,\"Prashun\",3500)\n",
    "b.append(b4)\n",
    "b4.CreateAccount(4,\"Prashun\",3500)\n",
    "b1.display()'''\n",
    "\n",
    "    "
   ]
  },
  {
   "cell_type": "code",
   "execution_count": null,
   "metadata": {},
   "outputs": [],
   "source": [
    "'''\n",
    "\n",
    "                            Online Python Compiler.\n",
    "                Code, Compile, Run and Debug python program online.\n",
    "Write your code in this editor and press \"Run\" button to execute it.\n",
    "\n",
    "'''\n",
    "import sqlite3\n",
    "import pandas\n",
    "\n",
    "class Bank:\n",
    "    def __init__(self,CustId,Name,Balance):\n",
    "        self.CustId=CustId\n",
    "        self.Name=Name\n",
    "        self.Balance=Balance\n",
    "    def CreateAccount(self,CustId,Name,Balance):\n",
    "        conn = sqlite3.connect('bank.db')\n",
    "        cr=conn.cursor()\n",
    "        # instead of cr we use conn directly\n",
    "        conn.execute(\"INSERT INTO Bank (CustId,NAME,Balance) \\\n",
    "            VALUES (?, ?, ? )\",(self.CustId,self.Name,self.Balance))\n",
    "        conn.commit()\n",
    "        print (\"Records created successfully\")\n",
    "        conn.close()\n",
    "    def WithdrawAmount(self,CustId,Amt):\n",
    "        if self.Balance>Amt:\n",
    "            # Update values\n",
    "            conn = sqlite3.connect('bank.db')\n",
    "            print (\"Opened database successfully\")\n",
    "            temp=conn.execute(\"UPDATE Bank set Balance = Balance-? where CustId = ? \",(Amt,CustId))\n",
    "            #print(temp)\n",
    "            conn.commit()\n",
    "            print (\"Total number of rows updated :\", conn.total_changes)\n",
    "            cursor = conn.execute(\"SELECT CustId, name, Balance from Bank\")\n",
    "            for row in cursor:\n",
    "                print (\"CustId = \", row[0])\n",
    "                print (\"NAME = \", row[1])\n",
    "                print (\"Balance = \", row[2],\"\\n\")\n",
    "                print (\"Results shown successfully\")\n",
    "            conn.close()\n",
    "            print(\"withdraw success\")\n",
    "        else:\n",
    "            print(\"Withdraw Balance is more then Available Balance\")\n",
    "    def DepositAmount(self,CustId,Amt):\n",
    "        # Update values\n",
    "        conn = sqlite3.connect('bank.db')\n",
    "        print (\"Opened database successfully\")\n",
    "        temp=conn.execute(\"UPDATE Bank set Balance = Balance + ? where CustId = ? \",(Amt,CustId))\n",
    "        #print(temp)\n",
    "        #  conn.commit()\n",
    "        print (\"Total number of rows updated :\", conn.total_changes)\n",
    "        cursor = conn.execute(\"SELECT CustId, name, Balance from Bank\")\n",
    "        for row in cursor:\n",
    "            print (\"CustId = \", row[0])\n",
    "            print (\"NAME = \", row[1])\n",
    "            print (\"Balance = \", row[2],\"\\n\")\n",
    "            print (\"Results shown successfully\")\n",
    "        conn.close()\n",
    "        print(\"Deposit Success\")\n",
    "    def RemoveAccount(self,CustId):\n",
    "        conn = sqlite3.connect('bank.db')\n",
    "        cr=conn.cursor()\n",
    "        # instead of cr we use conn directly\n",
    "        conn.execute(\"Delete from Bank Where CustId= ? \",(CustId,))\n",
    "        conn.commit()\n",
    "        print (\"Records Deleted successfully\")\n",
    "        conn.close()\n",
    "    def display(self):\n",
    "        conn = sqlite3.connect('bank.db')\n",
    "        cursor = conn.execute(\"SELECT CustId, name, Balance from Bank\")\n",
    "        for row in cursor:\n",
    "            print (\"CustId = \", row[0])\n",
    "            print (\"NAME = \", row[1])\n",
    "            print (\"Balance = \", row[2],\"\\n\")\n",
    "            print (\"Results shown successfully\")\n",
    "        conn.close()\n",
    "b=[]\n",
    "while(True):\n",
    "    print(\"Press 1 For Creating Account\\n Press 2. For Withdraw Money \\n Press 3. For Deposite Money\\n press 4 for Delete Account\\n 5 for Exit\\n\")\n",
    "    choice=int(input())\n",
    "    if choice==1:\n",
    "        print(\"Enter Id,Name & Initial Balance To Open Account\")\n",
    "        id=int(input())\n",
    "        name=input()\n",
    "        Balance=int(input())\n",
    "        b1=Bank(id,name,Balance)\n",
    "        b.append(b1)\n",
    "        b1.CreateAccount(id,name,Balance)\n",
    "    elif choice==2:\n",
    "        print(\"Enter CustId & Money to Withdraw\")\n",
    "        id=int(input())\n",
    "        mon=int(input())\n",
    "        b1.WithdrawAmount(id,mon)\n",
    "    elif choice==3:\n",
    "        print(\"Enter CustId & Money to Withdraw\")\n",
    "        id=int(input())\n",
    "        mon=int(input())\n",
    "        b1.DepositAmount(id,mon)\n",
    "    elif choice==4:\n",
    "        print(\"Enter id to remove\")\n",
    "        id=int(input())\n",
    "        b1.RemoveAccount(id)\n",
    "    else:\n",
    "        exit()\n",
    "       \n"
   ]
  },
  {
   "cell_type": "code",
   "execution_count": null,
   "metadata": {},
   "outputs": [],
   "source": [
    "import pandas as pd\n",
    "conn = sqlite3.connect('test.db')\n",
    "# dataframe is a structure to hold tabular data\n",
    "df = pd.read_sql_query(\"select * from bank\", conn)\n",
    "\n",
    "df.head()"
   ]
  },
  {
   "cell_type": "code",
   "execution_count": null,
   "metadata": {},
   "outputs": [],
   "source": [
    "class Employee:  \n",
    "    def __init__(self,name,CustId):  \n",
    "        self.CustId = CustId  \n",
    "        self.name = name \n",
    "    def display(self):  \n",
    "        print(\"CustId: %d \\nName: %s\"%(self.CustId,self.name))  \n",
    "\n",
    "emp1 = Employee(\"John\",101)  \n",
    "emp2 = Employee(\"David\",102)  \n",
    "   \n",
    "emp1.display()\n",
    "emp2.display()"
   ]
  },
  {
   "cell_type": "code",
   "execution_count": 1,
   "metadata": {},
   "outputs": [],
   "source": [
    "n=int(input())\n",
    "m=int(input())\n",
    "print(n+m)"
   ]
  }
 ],
 "metadata": {
  "kernelspec": {
   "display_name": "Python 3",
   "language": "python",
   "name": "python3"
  },
  "language_info": {
   "codemirror_mode": {
    "name": "ipython",
    "version": 3
   },
   "file_extension": ".py",
   "mimetype": "text/x-python",
   "name": "python",
   "nbconvert_exporter": "python",
   "pygments_lexer": "ipython3",
   "version": "3.11.5"
  }
 },
 "nbformat": 4,
 "nbformat_minor": 2
}
