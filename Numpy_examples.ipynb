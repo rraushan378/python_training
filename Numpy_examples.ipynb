{
  "nbformat": 4,
  "nbformat_minor": 0,
  "metadata": {
    "colab": {
      "name": "Numpy_examples.ipynb",
      "provenance": [],
      "collapsed_sections": []
    },
    "kernelspec": {
      "name": "python3",
      "display_name": "Python 3"
    }
  },
  "cells": [
    {
      "cell_type": "markdown",
      "metadata": {
        "id": "4OSsMghzAUsb"
      },
      "source": [
        "**Numpy provides a high-performance multidimensional array object, and tools for working with these arrays.**\n",
        "\n",
        "https://www.mathsisfun.com/\n"
      ]
    },
    {
      "cell_type": "code",
      "metadata": {
        "id": "STbSjYiz0pJP",
        "colab": {
          "base_uri": "https://localhost:8080/"
        },
        "outputId": "5d602af8-a857-4e0d-82ca-f422a3ba8abe"
      },
      "source": [
        "# Check how many dimensions the arrays have\n",
        "import numpy as np\n",
        "\n",
        "# numpy arrays are stored in contiguous locations unlike lists\n",
        "# they are implemented in c++\n",
        "\n",
        "a = np.array(42)\n",
        "b = np.array([1, 2, 3, 4, 5])\n",
        "c = np.array([[1, 2, 3], [4, 5, 6],[7,8,9]])\n",
        "d = np.array([[[1, 2, 3], [4, 5, 6]], [[1, 2, 3], [4, 5, 6]]])\n",
        "\n",
        "print(a.ndim)\n",
        "print(b.ndim)\n",
        "print(c.ndim)\n",
        "print(d.ndim)"
      ],
      "execution_count": 2,
      "outputs": [
        {
          "output_type": "stream",
          "name": "stdout",
          "text": [
            "0\n",
            "1\n",
            "2\n",
            "3\n"
          ]
        }
      ]
    },
    {
      "cell_type": "code",
      "metadata": {
        "id": "wprGZkqk1vms",
        "colab": {
          "base_uri": "https://localhost:8080/"
        },
        "outputId": "c26d75c0-6376-417e-9c42-142bea95c0b8"
      },
      "source": [
        "# Reshaping\n",
        "arr = np.array([1, 2, 3, 4, 5, 6, 7, 8, 9, 10, 11, 12])\n",
        "print(arr.shape)\n",
        "newarr = arr.reshape(4, 3)\n",
        "print(newarr)"
      ],
      "execution_count": 3,
      "outputs": [
        {
          "output_type": "stream",
          "name": "stdout",
          "text": [
            "(12,)\n",
            "[[ 1  2  3]\n",
            " [ 4  5  6]\n",
            " [ 7  8  9]\n",
            " [10 11 12]]\n"
          ]
        }
      ]
    },
    {
      "cell_type": "code",
      "metadata": {
        "id": "uabfAQi_18WY",
        "colab": {
          "base_uri": "https://localhost:8080/"
        },
        "outputId": "f1e40a3a-1fad-45c6-d0b5-82e02994089b"
      },
      "source": [
        "# Reshaping\n",
        "arr = np.array([1, 2, 3, 4, 5, 6, 7, 8, 9, 10, 11, 12])\n",
        "newarr = arr.reshape(2, 3, 2)\n",
        "print(newarr)"
      ],
      "execution_count": null,
      "outputs": [
        {
          "output_type": "stream",
          "name": "stdout",
          "text": [
            "[[[ 1  2]\n",
            "  [ 3  4]\n",
            "  [ 5  6]]\n",
            "\n",
            " [[ 7  8]\n",
            "  [ 9 10]\n",
            "  [11 12]]]\n"
          ]
        }
      ]
    },
    {
      "cell_type": "code",
      "metadata": {
        "id": "ujFgq96a2PEo",
        "colab": {
          "base_uri": "https://localhost:8080/"
        },
        "outputId": "220299ef-9a05-4911-9e08-dbe88fe0ed3f"
      },
      "source": [
        "# Reshaping with unknown dimension\n",
        "arr = np.array([1, 2, 3, 4,5,6])\n",
        "newarr = arr.reshape(2, -1)\n",
        "print(newarr)"
      ],
      "execution_count": 4,
      "outputs": [
        {
          "output_type": "stream",
          "name": "stdout",
          "text": [
            "[[1 2 3]\n",
            " [4 5 6]]\n"
          ]
        }
      ]
    },
    {
      "cell_type": "code",
      "metadata": {
        "id": "hqYEwaM82bUC",
        "colab": {
          "base_uri": "https://localhost:8080/"
        },
        "outputId": "44cd00e7-e2a9-4d9d-c195-d51e75863c72"
      },
      "source": [
        "# Flattening\n",
        "arr = np.array([[1, 2, 3], [4, 5, 6]])\n",
        "newarr = arr.reshape(-1)\n",
        "print(newarr)"
      ],
      "execution_count": 6,
      "outputs": [
        {
          "output_type": "stream",
          "name": "stdout",
          "text": [
            "[1 2 3 4 5 6]\n"
          ]
        }
      ]
    },
    {
      "cell_type": "code",
      "metadata": {
        "id": "WkHtv4ToguFG",
        "colab": {
          "base_uri": "https://localhost:8080/",
          "height": 221
        },
        "outputId": "86c647a7-cc45-41e0-fd95-6d78266c655e"
      },
      "source": [
        "# iterate through 3D array\n",
        "import numpy as np\n",
        "arr = np.array([[[1, 2, 3], [4, 5, 6]], [[7, 8, 9], [10, 11, 12]]])\n",
        "\n",
        "for x in arr:\n",
        "  for y in x:\n",
        "    for z in y:\n",
        "      print(z)"
      ],
      "execution_count": null,
      "outputs": [
        {
          "output_type": "stream",
          "text": [
            "1\n",
            "2\n",
            "3\n",
            "4\n",
            "5\n",
            "6\n",
            "7\n",
            "8\n",
            "9\n",
            "10\n",
            "11\n",
            "12\n"
          ],
          "name": "stdout"
        }
      ]
    },
    {
      "cell_type": "code",
      "metadata": {
        "id": "BPSMnJzHhF3p",
        "colab": {
          "base_uri": "https://localhost:8080/",
          "height": 221
        },
        "outputId": "c9eb24b3-852c-4298-c070-a95e2f461a46"
      },
      "source": [
        "# easier way\n",
        "arr = np.array([[[1, 2, 3], [4, 5, 6]], [[7, 8, 9], [10, 11, 12]]])\n",
        "\n",
        "for x in np.nditer(arr):\n",
        "  print(x)\n"
      ],
      "execution_count": null,
      "outputs": [
        {
          "output_type": "stream",
          "text": [
            "1\n",
            "2\n",
            "3\n",
            "4\n",
            "5\n",
            "6\n",
            "7\n",
            "8\n",
            "9\n",
            "10\n",
            "11\n",
            "12\n"
          ],
          "name": "stdout"
        }
      ]
    },
    {
      "cell_type": "code",
      "metadata": {
        "id": "08AW6D6zhtvS",
        "colab": {
          "base_uri": "https://localhost:8080/"
        },
        "outputId": "52448e63-ae70-4161-f80f-3d0015e27b7a"
      },
      "source": [
        "# random int\n",
        "from numpy import random\n",
        "\n",
        "x = random.randint(100)\n",
        "print(x)"
      ],
      "execution_count": 7,
      "outputs": [
        {
          "output_type": "stream",
          "name": "stdout",
          "text": [
            "4\n"
          ]
        }
      ]
    },
    {
      "cell_type": "code",
      "metadata": {
        "id": "akCabcLShxGV",
        "colab": {
          "base_uri": "https://localhost:8080/"
        },
        "outputId": "a38ec542-c3a2-46f7-a249-5d2802afe7e9"
      },
      "source": [
        "# random float\n",
        "from numpy import random\n",
        "\n",
        "x = random.rand()\n",
        "print(x)"
      ],
      "execution_count": null,
      "outputs": [
        {
          "output_type": "stream",
          "name": "stdout",
          "text": [
            "0.9638605998384889\n"
          ]
        }
      ]
    },
    {
      "cell_type": "code",
      "metadata": {
        "id": "YXYhqpG6h5rl",
        "colab": {
          "base_uri": "https://localhost:8080/"
        },
        "outputId": "ff6d0bb0-2d93-4237-bc7e-92fb943c2c8f"
      },
      "source": [
        "# random array\n",
        "from numpy import random\n",
        "\n",
        "x = random.randint(100, size=(3,5))\n",
        "print(x)"
      ],
      "execution_count": 8,
      "outputs": [
        {
          "output_type": "stream",
          "name": "stdout",
          "text": [
            "[[12 11 70 60 81]\n",
            " [83 16 13 74 93]\n",
            " [90 65 63 38 82]]\n"
          ]
        }
      ]
    },
    {
      "cell_type": "code",
      "metadata": {
        "id": "BxstxlgbBFfN",
        "colab": {
          "base_uri": "https://localhost:8080/"
        },
        "outputId": "7b9f2d96-3ec0-4f46-d307-7fdaf6ce000e"
      },
      "source": [
        "# Slicing\n",
        "a = np.array([[1,2,3,4], [5,6,7,8], [9,10,11,12]])\n",
        "print(a)\n",
        "\n",
        "b = a[:2, 1:3]\n",
        "print(b)"
      ],
      "execution_count": 9,
      "outputs": [
        {
          "output_type": "stream",
          "name": "stdout",
          "text": [
            "[[ 1  2  3  4]\n",
            " [ 5  6  7  8]\n",
            " [ 9 10 11 12]]\n",
            "[[2 3]\n",
            " [6 7]]\n"
          ]
        }
      ]
    },
    {
      "cell_type": "code",
      "metadata": {
        "id": "GyP4U823CRNw",
        "colab": {
          "base_uri": "https://localhost:8080/"
        },
        "outputId": "4b7a6dab-d6b3-45f3-be2e-0980fb533341"
      },
      "source": [
        "import numpy as np\n",
        "# Indexing\n",
        "# Create a new array from which we will select elements\n",
        "x = np.array([[1,2,3], [4,5,6], [7,8,9], [10, 11, 12]])\n",
        "\n",
        "print(x) \n",
        "\n",
        "# Create an array of indices\n",
        "a=np.arange(4)\n",
        "b = np.array([0, 2, 0, 1])\n",
        "\n",
        "# Select one element from each row of a using the indices in b\n",
        "print(x[a, b])  # Prints \"[ 1  6  7 11]\""
      ],
      "execution_count": 10,
      "outputs": [
        {
          "output_type": "stream",
          "name": "stdout",
          "text": [
            "[[ 1  2  3]\n",
            " [ 4  5  6]\n",
            " [ 7  8  9]\n",
            " [10 11 12]]\n",
            "[ 1  6  7 11]\n"
          ]
        }
      ]
    },
    {
      "cell_type": "markdown",
      "metadata": {
        "id": "4V-SCxtNrgre"
      },
      "source": [
        "* accessing row by row using for loop - bad practice. \n",
        "* Use vector operations instead.\n",
        "\n",
        "* https://www.geeksforgeeks.org/vectorization-in-python/\n",
        "\n",
        "* https://realpython.com/numpy-array-programming/"
      ]
    },
    {
      "cell_type": "code",
      "metadata": {
        "id": "MfYIzvF_D9eW",
        "colab": {
          "base_uri": "https://localhost:8080/",
          "height": 85
        },
        "outputId": "07e5d930-684b-4c77-f70c-0a2054066f9e"
      },
      "source": [
        "# Array math\n",
        "\n",
        "x = np.array([[1,2],[3,4]], dtype=np.float64)\n",
        "y = np.array([[5,6],[7,8]], dtype=np.float64)\n",
        "\n",
        "print(x)\n",
        "print(y)"
      ],
      "execution_count": null,
      "outputs": [
        {
          "output_type": "stream",
          "text": [
            "[[1. 2.]\n",
            " [3. 4.]]\n",
            "[[5. 6.]\n",
            " [7. 8.]]\n"
          ],
          "name": "stdout"
        }
      ]
    },
    {
      "cell_type": "code",
      "metadata": {
        "id": "bOYsGm0dE7Nz",
        "colab": {
          "base_uri": "https://localhost:8080/",
          "height": 153
        },
        "outputId": "d65541cf-d921-4c93-f244-97a6e245f81e"
      },
      "source": [
        "print(x + y)\n",
        "print(np.add(x, y))\n",
        "\n",
        "print(x - y)\n",
        "print(np.subtract(x, y))\n"
      ],
      "execution_count": null,
      "outputs": [
        {
          "output_type": "stream",
          "text": [
            "[[ 6.  8.]\n",
            " [10. 12.]]\n",
            "[[ 6.  8.]\n",
            " [10. 12.]]\n",
            "[[-4. -4.]\n",
            " [-4. -4.]]\n",
            "[[-4. -4.]\n",
            " [-4. -4.]]\n"
          ],
          "name": "stdout"
        }
      ]
    },
    {
      "cell_type": "code",
      "metadata": {
        "id": "CNxnB09HE9m5",
        "colab": {
          "base_uri": "https://localhost:8080/",
          "height": 153
        },
        "outputId": "180f8e92-8ac0-461f-a086-7d320b5d873d"
      },
      "source": [
        "print(x * y)\n",
        "print(np.multiply(x, y))\n",
        "\n",
        "print(x / y)\n",
        "print(np.divide(x, y))\n"
      ],
      "execution_count": null,
      "outputs": [
        {
          "output_type": "stream",
          "text": [
            "[[ 5. 12.]\n",
            " [21. 32.]]\n",
            "[[ 5. 12.]\n",
            " [21. 32.]]\n",
            "[[0.2        0.33333333]\n",
            " [0.42857143 0.5       ]]\n",
            "[[0.2        0.33333333]\n",
            " [0.42857143 0.5       ]]\n"
          ],
          "name": "stdout"
        }
      ]
    },
    {
      "cell_type": "markdown",
      "metadata": {
        "id": "4DvProNvFwUt"
      },
      "source": [
        "**Broadcasting - The ability of NumPy to treat arrays of different shapes during arithmetic operations.** \n",
        "\n",
        "* Broadcasting typically makes your code more concise and faster, so you should strive to use it where possible"
      ]
    },
    {
      "cell_type": "code",
      "metadata": {
        "id": "qbAFyDCQoZDc",
        "colab": {
          "base_uri": "https://localhost:8080/"
        },
        "outputId": "7d849e1c-cce8-4633-b63e-940989daab4d"
      },
      "source": [
        "import numpy as np\n",
        "\n",
        "# We will add the vector v to each row of the matrix x,\n",
        "# storing the result in the matrix y\n",
        "x = np.array([[1,2,3], [4,5,6], [7,8,9], [10, 11, 12]])\n",
        "v = np.array([1, 0, 1])\n",
        "\n",
        "y = x + v  # Add v to each row of x using broadcasting\n",
        "#y=x*3\n",
        "print(y)"
      ],
      "execution_count": 13,
      "outputs": [
        {
          "output_type": "stream",
          "name": "stdout",
          "text": [
            "[[ 2  2  4]\n",
            " [ 5  5  7]\n",
            " [ 8  8 10]\n",
            " [11 11 13]]\n"
          ]
        }
      ]
    }
  ]
}