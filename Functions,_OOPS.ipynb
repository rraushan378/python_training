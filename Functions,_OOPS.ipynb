{
  "cells": [
    {
      "cell_type": "markdown",
      "metadata": {
        "id": "lDEnvi35EcJ4"
      },
      "source": [
        "**User Defined functions**\n",
        "\n",
        "Types of arguments\n",
        "\n",
        "* Required arguments\n",
        "* Keyword arguments\n",
        "* Default arguments\n",
        "* Variable-length arguments\n"
      ]
    },
    {
      "cell_type": "code",
      "execution_count": 1,
      "metadata": {
        "colab": {
          "base_uri": "https://localhost:8080/"
        },
        "id": "_yfLG4ZYVdxV",
        "outputId": "c346fcd1-1e82-41de-b37f-6afe769c7e77"
      },
      "outputs": [
        {
          "name": "stdout",
          "output_type": "stream",
          "text": [
            "2\n",
            "3\n"
          ]
        }
      ],
      "source": [
        "def simp():\n",
        "    return 2, 3\n",
        "\n",
        "x,y=simp()\n",
        "print(x)\n",
        "print(y)"
      ]
    },
    {
      "cell_type": "code",
      "execution_count": 3,
      "metadata": {
        "colab": {
          "base_uri": "https://localhost:8080/"
        },
        "id": "GV18mPKwlSO2",
        "outputId": "5a864940-f223-40f7-ee5a-1d60a8c792aa"
      },
      "outputs": [
        {
          "name": "stdout",
          "output_type": "stream",
          "text": [
            "3\n"
          ]
        }
      ],
      "source": [
        "print(y)"
      ]
    },
    {
      "cell_type": "code",
      "execution_count": 4,
      "metadata": {
        "colab": {
          "base_uri": "https://localhost:8080/"
        },
        "id": "CwmjGyWhEONl",
        "outputId": "ebf52a03-abd4-4dbd-ef62-e7fcaddb140c"
      },
      "outputs": [
        {
          "name": "stdout",
          "output_type": "stream",
          "text": [
            "Simple Interest:  300.0\n",
            "Simple Interest:  1900.0\n"
          ]
        }
      ],
      "source": [
        "# Required arguments\n",
        "def simple_interest(p,t,r):  \n",
        "    return (p*t*r)/100  \n",
        "\n",
        "# same order\n",
        "print(\"Simple Interest: \",simple_interest(2500,6,2))  \n",
        "\n",
        "# different order\n",
        "print(\"Simple Interest: \",simple_interest(t=10,r=10,p=1900)) "
      ]
    },
    {
      "cell_type": "code",
      "execution_count": 7,
      "metadata": {
        "colab": {
          "base_uri": "https://localhost:8080/"
        },
        "id": "eanIU27mEuoT",
        "outputId": "d97a3062-3e4a-4e31-920f-05cf55341963"
      },
      "outputs": [
        {
          "name": "stdout",
          "output_type": "stream",
          "text": [
            "My name is john and age is 22\n",
            "My name is David and age is 10\n"
          ]
        }
      ],
      "source": [
        "# Default arguments\n",
        "def printme(name,age=22):  \n",
        "    print(\"My name is\",name,\"and age is\",age)  \n",
        "   \n",
        "printme(\"john\") \n",
        "printme(age = 10,name=\"David\") "
      ]
    },
    {
      "cell_type": "code",
      "execution_count": 8,
      "metadata": {
        "colab": {
          "base_uri": "https://localhost:8080/"
        },
        "id": "78p8Y2ZgEysS",
        "outputId": "211939d5-a8fe-4ee2-c79d-4758a14f9d4e"
      },
      "outputs": [
        {
          "name": "stdout",
          "output_type": "stream",
          "text": [
            "type of passed argument is  <class 'tuple'>\n",
            "john\n",
            "David\n",
            "type of passed argument is  <class 'tuple'>\n",
            "john\n",
            "David\n",
            "smith\n",
            "nick\n"
          ]
        }
      ],
      "source": [
        "# Variable length arguments\n",
        "def printme(*names):  \n",
        "    print(\"type of passed argument is \",type(names))  \n",
        "    \n",
        "    for name in names:  \n",
        "        print(name)  \n",
        "\n",
        "printme(\"john\",\"David\") \n",
        "printme(\"john\",\"David\",\"smith\",\"nick\") "
      ]
    },
    {
      "cell_type": "markdown",
      "metadata": {
        "id": "h_aKezoPFCTE"
      },
      "source": [
        "**Global and Local variables**\n",
        "\n",
        "In python, the variables are defined with the two types of scopes.\n",
        "\n",
        "* Global variables\n",
        "* Local variables\n",
        "\n",
        "* The variable defined outside any function is known to have a global scope \n",
        "* whereas the variable defined inside a function is known to have a local scope.\n"
      ]
    },
    {
      "cell_type": "code",
      "execution_count": 9,
      "metadata": {
        "colab": {
          "base_uri": "https://localhost:8080/"
        },
        "id": "KS82dhC8E4jN",
        "outputId": "d7b8a73b-4acc-478c-f527-f6e965c21c78"
      },
      "outputs": [
        {
          "name": "stdout",
          "output_type": "stream",
          "text": [
            "Python is awesome\n",
            "Python is fantastic\n"
          ]
        }
      ],
      "source": [
        "x = \"awesome\"\n",
        "def myfunc():\n",
        "  x = \"fantastic\"\n",
        "  print(\"Python is \" + x)\n",
        "\n",
        "print(\"Python is \" + x)\n",
        "myfunc()"
      ]
    },
    {
      "cell_type": "code",
      "execution_count": 10,
      "metadata": {
        "colab": {
          "base_uri": "https://localhost:8080/"
        },
        "id": "Egx9j52smyQt",
        "outputId": "0b569842-82e1-439a-b49c-6348a967ff95"
      },
      "outputs": [
        {
          "name": "stdout",
          "output_type": "stream",
          "text": [
            "Python is awesome\n",
            "Python is newval\n"
          ]
        }
      ],
      "source": [
        "def myfuncNew():\n",
        "  global x\n",
        "  x = \"newval\"\n",
        "\n",
        "print(\"Python is \" + x)\n",
        "myfuncNew()\n",
        "print(\"Python is \" + x)"
      ]
    },
    {
      "cell_type": "code",
      "execution_count": 11,
      "metadata": {
        "colab": {
          "base_uri": "https://localhost:8080/"
        },
        "id": "L_f2J892yZRL",
        "outputId": "4c355700-e81b-4f61-935a-96b93fd887fb"
      },
      "outputs": [
        {
          "name": "stdout",
          "output_type": "stream",
          "text": [
            "<class 'datetime.timedelta'>\n",
            "26802\n"
          ]
        }
      ],
      "source": [
        "import datetime as dt\n",
        "\n",
        "past=dt.datetime.now()\n",
        "\n",
        "x=0\n",
        "for i in range(200000): # change range and see\n",
        "    x=x+1\n",
        "\n",
        "present=dt.datetime.now() \n",
        "\n",
        "lapse=present-past\n",
        "print(type(lapse))\n",
        "print(lapse.microseconds) \n"
      ]
    },
    {
      "cell_type": "code",
      "execution_count": 14,
      "metadata": {
        "colab": {
          "base_uri": "https://localhost:8080/"
        },
        "id": "TJ5xGamvdxua",
        "outputId": "97f60e33-e9c3-4188-899a-ed09f92c01ba"
      },
      "outputs": [
        {
          "name": "stdout",
          "output_type": "stream",
          "text": [
            "Looking in indexes: https://pypi.org/simple, https://us-python.pkg.dev/colab-wheels/public/simple/\n",
            "Collecting pdfminer\n",
            "  Downloading pdfminer-20191125.tar.gz (4.2 MB)\n",
            "\u001b[K     |████████████████████████████████| 4.2 MB 29.9 MB/s \n",
            "\u001b[?25hCollecting pycryptodome\n",
            "  Downloading pycryptodome-3.15.0-cp35-abi3-manylinux2010_x86_64.whl (2.3 MB)\n",
            "\u001b[K     |████████████████████████████████| 2.3 MB 41.1 MB/s \n",
            "\u001b[?25hBuilding wheels for collected packages: pdfminer\n",
            "  Building wheel for pdfminer (setup.py) ... \u001b[?25l\u001b[?25hdone\n",
            "  Created wheel for pdfminer: filename=pdfminer-20191125-py3-none-any.whl size=6140091 sha256=f9f77aee727d3697930910c809b46cbe86416523622d02f99889ee45a651cee4\n",
            "  Stored in directory: /root/.cache/pip/wheels/e3/5e/f4/d210b46e9e4a28229ea070ed5b3efa92c3c29d1a7918dd4b97\n",
            "Successfully built pdfminer\n",
            "Installing collected packages: pycryptodome, pdfminer\n",
            "Successfully installed pdfminer-20191125 pycryptodome-3.15.0\n"
          ]
        }
      ],
      "source": [
        "! pip install pdfminer\n",
        "import pdfminer"
      ]
    },
    {
      "cell_type": "markdown",
      "metadata": {
        "id": "gMqz9A3gKY50"
      },
      "source": [
        "**Object Oriented programming**"
      ]
    },
    {
      "cell_type": "markdown",
      "metadata": {
        "id": "txT0K2AvAgmg"
      },
      "source": [
        "**Encapsulation**\n",
        "\n",
        "* Encapsulation is achieved when each object keeps its state private, inside a class. Other objects don’t have direct access to this state. Instead, they can only call a list of public functions — called methods.\n",
        "\n",
        "* So, the object manages its own state via methods — and no other class can touch it unless explicitly allowed. If you want to communicate with the object, you should use the methods provided. But (by default), you can’t change the state.\n",
        "\n",
        "* This is to reduce the binding between different classes.  The more objects know each other, the more they will have to change when one of them changes.  It is like having a call center for an organization instead of exposing all employees in the org.\n",
        "\n",
        "\n",
        "**Abstraction**\n",
        "\n",
        "* Abstraction is a concept aiming to ease problems with a large codebase.Applying abstraction means that each object should only expose a high-level mechanism for using it.\n",
        "\n",
        "* This mechanism should hide internal implementation details (Information hiding). It should only reveal operations relevant for the other objects.\n"
      ]
    },
    {
      "cell_type": "code",
      "execution_count": null,
      "metadata": {
        "colab": {
          "base_uri": "https://localhost:8080/"
        },
        "id": "iF0YuetQKd29",
        "outputId": "80938929-1002-4941-9667-eb135074726d"
      },
      "outputs": [
        {
          "name": "stdout",
          "output_type": "stream",
          "text": [
            "ID: 101 \n",
            "Name: John\n",
            "ID: 102 \n",
            "Name: David\n"
          ]
        }
      ],
      "source": [
        "class Employee:  \n",
        "    def __init__(self,name,id):  \n",
        "        self.id = id  \n",
        "        self.name = name \n",
        "    def display(self):  \n",
        "        print(\"ID: %d \\nName: %s\"%(self.id,self.name))  \n",
        "\n",
        "emp1 = Employee(\"John\",101)  \n",
        "emp2 = Employee(\"David\",102)  \n",
        "   \n",
        "emp1.display()\n",
        "emp2.display()"
      ]
    },
    {
      "cell_type": "code",
      "execution_count": null,
      "metadata": {
        "colab": {
          "base_uri": "https://localhost:8080/"
        },
        "id": "F58Ho-Nv_Ixg",
        "outputId": "2e70a699-e4ee-4585-912b-ac7ccf9ff522"
      },
      "outputs": [
        {
          "name": "stdout",
          "output_type": "stream",
          "text": [
            "Employee created.\n",
            "Destructor called, Employee deleted.\n"
          ]
        }
      ],
      "source": [
        "class Employee:\n",
        "    def __init__(self):\n",
        "        print('Employee created.')\n",
        "    # Destructor\n",
        "    def __del__(self):\n",
        "        print('Destructor called, Employee deleted.')\n",
        " \n",
        "obj = Employee()\n",
        "del obj"
      ]
    },
    {
      "cell_type": "markdown",
      "metadata": {
        "id": "UKB9rzAdCPTq"
      },
      "source": [
        "\n",
        "\n",
        "---\n",
        "\n",
        "* A constructor is a special type of method (function) which is used to initialize the instance members of the class. It is automatically is executed when we create the object of this class. \n",
        "\n",
        "* Class variables are variables that are being shared with all instances (objects) which were created using that particular class. So when accessed a class variable from any instance, the value will be the same. \n",
        "\n",
        "* Instance variables, on the other hand, are variables which all instances keep for themselves (i.e a particular object owns its instance variables). So typically values of instance variables differ from instance to instance.\n",
        "\n",
        "* Class variables in python are defined just after the class definition and outside of any methods\n",
        "\n",
        "* Unlike class variables, instance variables should be defined within methods using “self”\n",
        "\n",
        "* Just as there are instance and class variables, there are instance and class methods. These are intended to set or get status of the relevant class or instance. So the purpose of the class methods is to set or get the details (status) of the class. Purpose of instance methods is to set or get details about instances (objects).\n",
        "\n",
        "\n"
      ]
    },
    {
      "cell_type": "code",
      "execution_count": null,
      "metadata": {
        "colab": {
          "base_uri": "https://localhost:8080/"
        },
        "id": "VCBXVuoiKtro",
        "outputId": "6c10b8d7-80e2-4e7a-fcbb-6f8d01ee7c11"
      },
      "outputs": [
        {
          "name": "stdout",
          "output_type": "stream",
          "text": [
            "The number of students: 3\n",
            "at class level \n",
            "at object level\n"
          ]
        }
      ],
      "source": [
        "# Class and instance variablles and methods -------------------------\n",
        "class Student:  \n",
        "    count = 0  # this is a class level variable\n",
        "    \n",
        "    def disp(): # this is a class level function\n",
        "        print(\"at class level \")\n",
        "    def __init__(self):  \n",
        "        Student.count = Student.count + 1  \n",
        "    def display(self):\n",
        "        print(\"at object level\")\n",
        "       \n",
        "s1=Student()  \n",
        "s2=Student()  \n",
        "s3=Student()\n",
        "  \n",
        "print(\"The number of students:\",Student.count)\n",
        "\n",
        "Student.disp()\n",
        "s1.display()"
      ]
    },
    {
      "cell_type": "code",
      "execution_count": null,
      "metadata": {
        "colab": {
          "base_uri": "https://localhost:8080/"
        },
        "id": "WA59Yn-OjjB3",
        "outputId": "cb979fc3-6879-43de-d09f-a8d081636e81"
      },
      "outputs": [
        {
          "name": "stdout",
          "output_type": "stream",
          "text": [
            "The number of employees 2\n"
          ]
        }
      ],
      "source": [
        "# Data hiding for abstraction -------------------------\n",
        "class Employee:  \n",
        "    __count = 0  \n",
        "    def __init__(self): \n",
        "        self.__id=5\n",
        "        Employee.__count = Employee.__count+1  \n",
        "    def display(self):  \n",
        "        print(\"The number of employees\",Employee.__count) \n",
        "        \n",
        "emp = Employee()  \n",
        "emp2 = Employee()  \n",
        "\n",
        "emp.display()  \n",
        "#emp.__id=6 \n",
        "#print(emp.__id)\n",
        "#Employee.__count=20\n",
        "#print(Employee.__count)  # returns error"
      ]
    },
    {
      "cell_type": "markdown",
      "metadata": {
        "id": "hPNWUlcjBX8D"
      },
      "source": [
        "**Inheritance**\n",
        "\n",
        "* Single Inheritance\n",
        "* Multiple Inheritance\n",
        "* Multilevel Inheritance\n",
        "* Hierarchical Inheritance\n",
        "* Hybrid Inheritance\n"
      ]
    },
    {
      "cell_type": "code",
      "execution_count": null,
      "metadata": {
        "colab": {
          "base_uri": "https://localhost:8080/"
        },
        "id": "KUGHPuOci7sV",
        "outputId": "760580d8-bfd8-421b-c824-98c018ab57bc"
      },
      "outputs": [
        {
          "name": "stdout",
          "output_type": "stream",
          "text": [
            "constructor at child level\n",
            "constructor at parent level\n",
            "dog barking\n",
            "Animal Speaking\n"
          ]
        }
      ],
      "source": [
        "# Single inheritance ------------------\n",
        "\n",
        "class Animal:  \n",
        "    def __init__(self):\n",
        "      print('constructor at parent level')\n",
        "    def speak(self):  \n",
        "        print(\"Animal Speaking\")  \n",
        "#child class Dog inherits the base class Animal  \n",
        "class Dog(Animal):  \n",
        "    def __init__(self):\n",
        "      print('constructor at child level')\n",
        "      super().__init__()\n",
        "    def bark(self):  \n",
        "        print(\"dog barking\")  \n",
        "d = Dog()  \n",
        "d.bark()  \n",
        "d.speak()  "
      ]
    },
    {
      "cell_type": "code",
      "execution_count": null,
      "metadata": {
        "colab": {
          "base_uri": "https://localhost:8080/"
        },
        "id": "TlsvckZnjEOI",
        "outputId": "bdb6c9af-e2a8-413e-9741-a626833b006e"
      },
      "outputs": [
        {
          "name": "stdout",
          "output_type": "stream",
          "text": [
            "dog barking\n",
            "Animal Speaking\n",
            "Eating bread...\n"
          ]
        }
      ],
      "source": [
        "# Multi - level inheritance -----------------------\n",
        "\n",
        "class Animal:  \n",
        "    def speak(self):  \n",
        "        print(\"Animal Speaking\")  \n",
        "#The child class Dog inherits the base class Animal  \n",
        "class Dog(Animal):  \n",
        "    def bark(self):  \n",
        "        print(\"dog barking\")  \n",
        "#The child class Dogchild inherits another child class Dog  \n",
        "class DogChild(Dog):  \n",
        "    def eat(self):  \n",
        "        print(\"Eating bread...\")  \n",
        "d = DogChild()  \n",
        "d.bark()  \n",
        "d.speak()  \n",
        "d.eat()  "
      ]
    },
    {
      "cell_type": "code",
      "execution_count": null,
      "metadata": {
        "colab": {
          "base_uri": "https://localhost:8080/"
        },
        "id": "EFuFLKc7jO7t",
        "outputId": "361cebf9-5d55-46df-b256-6d9a9dbae575"
      },
      "outputs": [
        {
          "name": "stdout",
          "output_type": "stream",
          "text": [
            "30\n",
            "200\n",
            "0.5\n",
            "Calculation1\n"
          ]
        }
      ],
      "source": [
        "# Multiple inheritance -----------------------\n",
        "\n",
        "class Calculation1:  \n",
        "    def Summation(self,a,b):  \n",
        "        return a+b  \n",
        "    def disp(self):\n",
        "      print('Calculation1')\n",
        "class Calculation2:  \n",
        "    def Multiplication(self,a,b):  \n",
        "        return a*b\n",
        "    def disp(self):\n",
        "      print('Calculation2')\n",
        "class Derived(Calculation1,Calculation2):  \n",
        "    def Divide(self,a,b): \n",
        "        return a/b\n",
        "d = Derived()  \n",
        "# Better way\n",
        "#c1=Calculation1()\n",
        "#c2=Calculation2()\n",
        "#c2.disp()\n",
        "print(d.Summation(10,20))  \n",
        "print(d.Multiplication(10,20))  \n",
        "print(d.Divide(10,20)) \n",
        "d.disp() "
      ]
    },
    {
      "cell_type": "code",
      "execution_count": null,
      "metadata": {
        "colab": {
          "base_uri": "https://localhost:8080/"
        },
        "id": "QxAuAWSxjVt5",
        "outputId": "98adcba6-9ea9-4fba-eb51-4731a45867ed"
      },
      "outputs": [
        {
          "name": "stdout",
          "output_type": "stream",
          "text": [
            "True\n",
            "False\n",
            "True\n"
          ]
        }
      ],
      "source": [
        "# Checking inheritance ---------------------\n",
        "\n",
        "class Calculation1:  \n",
        "    def Summation(self,a,b):  \n",
        "        return a+b;  \n",
        "class Calculation2:  \n",
        "    def Multiplication(self,a,b):  \n",
        "        return a*b;  \n",
        "class Derived(Calculation1,Calculation2):  \n",
        "    def Divide(self,a,b):  \n",
        "        return a/b;  \n",
        "      \n",
        "d = Derived()  \n",
        "print(issubclass(Derived,Calculation2))  \n",
        "print(issubclass(Calculation1,Calculation2))\n",
        "\n",
        "print(isinstance(d,Calculation2)) "
      ]
    },
    {
      "cell_type": "markdown",
      "metadata": {
        "id": "ptw7wrjNBrwS"
      },
      "source": [
        "**Polymorphism**\n",
        "\n",
        "* The ability to appear in many forms. \n",
        "\n",
        "* In object-oriented programming, polymorphism refers to a programming language's ability to process objects differently depending on their data type or class.  \n",
        "\n",
        "* Method Overloading and Method Overriding help here.\n",
        "\n",
        "* Polymorphism allows for flexibility and loose coupling so that code can be extended and easily maintained over time.\n",
        "\n",
        "* The right class / object to be used is determined at Runtime based on what actual object is instantiated.\n",
        "\n",
        "https://refactoring.guru/replace-conditional-with-polymorphism\n"
      ]
    },
    {
      "cell_type": "code",
      "execution_count": null,
      "metadata": {
        "colab": {
          "base_uri": "https://localhost:8080/"
        },
        "id": "zUp9CEjtjrKM",
        "outputId": "ed84a12f-380f-4055-ae6e-3593a352b573"
      },
      "outputs": [
        {
          "name": "stdout",
          "output_type": "stream",
          "text": [
            "Hey \n",
            "Hey Nicholas\n"
          ]
        }
      ],
      "source": [
        "# Method overloading --------------------------\n",
        "# Java and C++ style overloading not possible in python\n",
        "class Student:\n",
        "    def hello(self, name=None):\n",
        "        if name is not None:\n",
        "            print('Hey ' + name)\n",
        "        else:\n",
        "            print('Hey ')\n",
        "    \n",
        "# Creating a class instance\n",
        "std = Student()\n",
        "\n",
        "# Call the method\n",
        "std.hello()\n",
        "\n",
        "# Call the method and pass a parameter\n",
        "std.hello('Nicholas')\n"
      ]
    },
    {
      "cell_type": "code",
      "execution_count": null,
      "metadata": {
        "colab": {
          "base_uri": "https://localhost:8080/"
        },
        "id": "wOQocQNDjcs1",
        "outputId": "cca0ff65-6654-4043-f760-8dfa41183c6f"
      },
      "outputs": [
        {
          "name": "stdout",
          "output_type": "stream",
          "text": [
            "Mobile Brightness\n"
          ]
        }
      ],
      "source": [
        "# Method overriding --------------------------\n",
        "class Mobile():  \n",
        "    def IncreaseBrightness(self):  \n",
        "        print(\"Mobile Brightness\")  \n",
        "\n",
        "class Samsung(Mobile):\n",
        "  pass\n",
        "\n",
        "class Nokia(Mobile):  # remove inheritance and see too\n",
        "    def IncreaseBrightness(self):  \n",
        "        #super().IncreaseBrightness()\n",
        "        print(\"Nokia Brightness\")  \n",
        "\n",
        "#d = Mobile() \n",
        "d= Samsung() # fine with base class functionality\n",
        "#d = Nokia()   # NOT fine with base class functionality\n",
        "d.IncreaseBrightness()  "
      ]
    }
  ],
  "metadata": {
    "colab": {
      "provenance": []
    },
    "kernelspec": {
      "display_name": "Python 3",
      "name": "python3"
    },
    "language_info": {
      "codemirror_mode": {
        "name": "ipython",
        "version": 3
      },
      "file_extension": ".py",
      "mimetype": "text/x-python",
      "name": "python",
      "nbconvert_exporter": "python",
      "pygments_lexer": "ipython3",
      "version": "3.11.5"
    }
  },
  "nbformat": 4,
  "nbformat_minor": 0
}
